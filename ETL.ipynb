{
 "cells": [
  {
   "cell_type": "code",
   "execution_count": 2,
   "metadata": {},
   "outputs": [],
   "source": [
    "from sqlalchemy import create_engine\n",
    "import pandas as pd\n",
    "import requests"
   ]
  },
  {
   "cell_type": "code",
   "execution_count": 3,
   "metadata": {},
   "outputs": [],
   "source": [
    "def api_request_get_center(address):\n",
    "    try:\n",
    "        url = f\"https://nominatim.openstreetmap.org/search.php?q={address}&polygon_geojson=1&format=jsonv2\"\n",
    "        response = requests.get(url)\n",
    "\n",
    "        lat = response.json()[0]['lat']\n",
    "        long = response.json()[0]['lon']\n",
    "\n",
    "        return f\"{lat}, {long}\"\n",
    "    \n",
    "    except Exception:\n",
    "        print(address)\n",
    "        return None"
   ]
  },
  {
   "cell_type": "markdown",
   "metadata": {},
   "source": [
    "## 1. Xử lý dữ liệu"
   ]
  },
  {
   "cell_type": "markdown",
   "metadata": {},
   "source": [
    "### 1.1 Load CSV"
   ]
  },
  {
   "cell_type": "code",
   "execution_count": 4,
   "metadata": {},
   "outputs": [],
   "source": [
    "provinces = pd.read_csv('./csv/provinces.csv', dtype={'code': 'string'})\n",
    "districts = pd.read_csv('./csv/districts.csv', dtype={'code': 'string', 'province_code': 'string'})\n",
    "wards = pd.read_csv('./csv/wards.csv', dtype={'code': 'string', 'district_code': 'string'})"
   ]
  },
  {
   "cell_type": "markdown",
   "metadata": {},
   "source": [
    "### 1.2 Xử lý dữ liệu Wards"
   ]
  },
  {
   "cell_type": "code",
   "execution_count": 5,
   "metadata": {},
   "outputs": [],
   "source": [
    "wards_temp = wards.merge(\n",
    "    right=districts[['code', 'full_name', 'province_code']],\n",
    "    left_on='district_code',\n",
    "    right_on='code',\n",
    "    how='left'\n",
    ").merge(\n",
    "    right=provinces[['code', 'full_name']],\n",
    "    left_on='province_code',\n",
    "    right_on='code',\n",
    "    how='left'\n",
    ").drop(columns=['code', 'code_y']).rename(\n",
    "    columns={\n",
    "        \"code_x\": \"code\",\n",
    "        \"full_name\": \"province_name\",\n",
    "        \"full_name_y\": \"district_name\",\n",
    "        \"full_name_x\": \"ward_name\",\n",
    "    }\n",
    ")"
   ]
  },
  {
   "cell_type": "code",
   "execution_count": 6,
   "metadata": {},
   "outputs": [
    {
     "data": {
      "text/html": [
       "<div>\n",
       "<style scoped>\n",
       "    .dataframe tbody tr th:only-of-type {\n",
       "        vertical-align: middle;\n",
       "    }\n",
       "\n",
       "    .dataframe tbody tr th {\n",
       "        vertical-align: top;\n",
       "    }\n",
       "\n",
       "    .dataframe thead th {\n",
       "        text-align: right;\n",
       "    }\n",
       "</style>\n",
       "<table border=\"1\" class=\"dataframe\">\n",
       "  <thead>\n",
       "    <tr style=\"text-align: right;\">\n",
       "      <th></th>\n",
       "      <th>code</th>\n",
       "      <th>name</th>\n",
       "      <th>name_en</th>\n",
       "      <th>ward_name</th>\n",
       "      <th>full_name_en</th>\n",
       "      <th>code_name</th>\n",
       "      <th>district_code</th>\n",
       "      <th>center</th>\n",
       "      <th>district_name</th>\n",
       "      <th>province_code</th>\n",
       "      <th>province_name</th>\n",
       "    </tr>\n",
       "  </thead>\n",
       "  <tbody>\n",
       "    <tr>\n",
       "      <th>2260</th>\n",
       "      <td>07048</td>\n",
       "      <td>Vũ Oai</td>\n",
       "      <td>Vu Oai</td>\n",
       "      <td>Xã Vũ Oai</td>\n",
       "      <td>Vu Oai Commune</td>\n",
       "      <td>vu_oai</td>\n",
       "      <td>193</td>\n",
       "      <td>NaN</td>\n",
       "      <td>Thành phố Hạ Long</td>\n",
       "      <td>22</td>\n",
       "      <td>Tỉnh Quảng Ninh</td>\n",
       "    </tr>\n",
       "    <tr>\n",
       "      <th>10139</th>\n",
       "      <td>31042</td>\n",
       "      <td>Vân Khánh</td>\n",
       "      <td>Van Khanh</td>\n",
       "      <td>Xã Vân Khánh</td>\n",
       "      <td>Van Khanh Commune</td>\n",
       "      <td>van_khanh</td>\n",
       "      <td>909</td>\n",
       "      <td>9.5749637, 104.8600441</td>\n",
       "      <td>Huyện An Minh</td>\n",
       "      <td>91</td>\n",
       "      <td>Tỉnh Kiên Giang</td>\n",
       "    </tr>\n",
       "    <tr>\n",
       "      <th>9604</th>\n",
       "      <td>29512</td>\n",
       "      <td>1</td>\n",
       "      <td>1</td>\n",
       "      <td>Phường 1</td>\n",
       "      <td>Ward 1</td>\n",
       "      <td>1</td>\n",
       "      <td>851</td>\n",
       "      <td>9.6373988, 106.4963381</td>\n",
       "      <td>Thị xã Duyên Hải</td>\n",
       "      <td>84</td>\n",
       "      <td>Tỉnh Trà Vinh</td>\n",
       "    </tr>\n",
       "  </tbody>\n",
       "</table>\n",
       "</div>"
      ],
      "text/plain": [
       "        code       name    name_en     ward_name       full_name_en  \\\n",
       "2260   07048     Vũ Oai     Vu Oai     Xã Vũ Oai     Vu Oai Commune   \n",
       "10139  31042  Vân Khánh  Van Khanh  Xã Vân Khánh  Van Khanh Commune   \n",
       "9604   29512          1          1      Phường 1             Ward 1   \n",
       "\n",
       "       code_name district_code                  center      district_name  \\\n",
       "2260      vu_oai           193                     NaN  Thành phố Hạ Long   \n",
       "10139  van_khanh           909  9.5749637, 104.8600441      Huyện An Minh   \n",
       "9604           1           851  9.6373988, 106.4963381   Thị xã Duyên Hải   \n",
       "\n",
       "      province_code    province_name  \n",
       "2260             22  Tỉnh Quảng Ninh  \n",
       "10139            91  Tỉnh Kiên Giang  \n",
       "9604             84    Tỉnh Trà Vinh  "
      ]
     },
     "execution_count": 6,
     "metadata": {},
     "output_type": "execute_result"
    }
   ],
   "source": [
    "wards_temp.sample(3)"
   ]
  },
  {
   "cell_type": "code",
   "execution_count": 17,
   "metadata": {},
   "outputs": [
    {
     "name": "stdout",
     "output_type": "stream",
     "text": [
      "Tổng: 10598 xã\n",
      "Không có tọa độ: 3510 xã\n",
      "Có tọa độ: 7088 xã\n"
     ]
    },
    {
     "data": {
      "image/png": "[encoded data removed]",
      "text/plain": [
       "<Figure size 640x480 with 1 Axes>"
      ]
     },
     "metadata": {},
     "output_type": "display_data"
    }
   ],
   "source": [
    "import seaborn as sns\n",
    "\n",
    "def draw():\n",
    "    isna = wards['center'].isna().sum()\n",
    "    notna = wards['center'].notna().sum()\n",
    "    sns.barplot([isna, notna])\n",
    "\n",
    "    s = f\"Tổng: {isna + notna} xã\\nKhông có tọa độ: {isna} xã\\nCó tọa độ: {notna} xã\"\n",
    "\n",
    "    print(s)\n",
    "\n",
    "draw()"
   ]
  },
  {
   "cell_type": "markdown",
   "metadata": {},
   "source": [
    "## 2. ETL"
   ]
  },
  {
   "cell_type": "code",
   "execution_count": 8,
   "metadata": {},
   "outputs": [],
   "source": [
    "from models import *\n",
    "\n",
    "def ETL_data(db_engine):\n",
    "    # db.metadata.create_all(db_engine)\n",
    "    \n",
    "    provinces.to_sql(\"Provinces\", con=db_engine, index=False, if_exists=\"append\")\n",
    "    districts.to_sql(\"Districts\", con=db_engine, index=False, if_exists=\"append\")\n",
    "    wards.to_sql(\"Wards\", con=db_engine, index=False, if_exists=\"append\")\n"
   ]
  },
  {
   "cell_type": "markdown",
   "metadata": {},
   "source": [
    "### 2.1 CSV"
   ]
  },
  {
   "cell_type": "code",
   "execution_count": 9,
   "metadata": {},
   "outputs": [],
   "source": [
    "# wards.to_csv('csv/wards.csv', index=False)\n",
    "# districts.to_csv('csv/districts.csv', index=False)\n",
    "# provinces.to_csv('csv/provinces.csv', index=False)"
   ]
  },
  {
   "cell_type": "markdown",
   "metadata": {},
   "source": [
    "### 2.2 SQLite"
   ]
  },
  {
   "cell_type": "code",
   "execution_count": 10,
   "metadata": {},
   "outputs": [],
   "source": [
    "# SQLite_URL = \"sqlite:///app_dev.db\"\n",
    "# sqlite_engine = create_engine(SQLite_URL)\n",
    "\n",
    "# ETL_data(sqlite_engine)"
   ]
  },
  {
   "cell_type": "markdown",
   "metadata": {},
   "source": [
    "### 2.3 MySQL"
   ]
  },
  {
   "cell_type": "code",
   "execution_count": 11,
   "metadata": {},
   "outputs": [],
   "source": [
    "# DB_USER = \"cameras_label_master\"\n",
    "# DB_PASS = \"aipt2023\"\n",
    "# DB_HOST = \"localhost\"\n",
    "# DB_NAME = \"cameras_label_master\"\n",
    "\n",
    "# MySQL_URL = f\"mysql://{DB_USER}:{DB_PASS}@{DB_HOST}/{DB_NAME}\"\n",
    "# mysql_engine = create_engine(MySQL_URL)\n",
    "\n",
    "# ETL_data(mysql_engine)"
   ]
  }
 ],
 "metadata": {
  "kernelspec": {
   "display_name": "reseach",
   "language": "python",
   "name": "python3"
  },
  "language_info": {
   "codemirror_mode": {
    "name": "ipython",
    "version": 3
   },
   "file_extension": ".py",
   "mimetype": "text/x-python",
   "name": "python",
   "nbconvert_exporter": "python",
   "pygments_lexer": "ipython3",
   "version": "3.9.12"
  }
 },
 "nbformat": 4,
 "nbformat_minor": 2
}
